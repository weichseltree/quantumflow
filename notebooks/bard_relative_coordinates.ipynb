{
 "cells": [
  {
   "cell_type": "code",
   "execution_count": null,
   "metadata": {},
   "outputs": [],
   "source": [
    "import numpy as np\n",
    "\n",
    "def simulate_particles(initial_positions, initial_velocities, num_steps, dt):\n",
    "    # Initialize arrays to store positions and velocities\n",
    "    positions = np.zeros((num_steps, n, 2))\n",
    "    velocities = np.zeros((num_steps, n, 2))\n",
    "\n",
    "    # Store initial positions and velocities\n",
    "    positions[0] = initial_positions\n",
    "    velocities[0] = initial_velocities\n",
    "\n",
    "    # Simulate particle movement over time\n",
    "    for step in range(1, num_steps):\n",
    "        # Update velocities based on Lennard-Jones potential and kinetic energy\n",
    "        for i in range(n):\n",
    "            for j in range(i):\n",
    "                # Calculate distance between particles\n",
    "                distance = np.linalg.norm(positions[step-1, i] - positions[step-1, j])\n",
    "\n",
    "                # Calculate Lennard-Jones potential\n",
    "                #potential = 4 * ((1 / distance)**12 - (1 / distance)**6)\n",
    "\n",
    "                # Calculate force between particles\n",
    "                force = 24 * ((2 / distance)**12 - (1 / distance)**6) / distance\n",
    "\n",
    "                # Update velocities based on force and time step\n",
    "                velocities[step, i] += force * dt\n",
    "                velocities[step, j] -= force * dt\n",
    "\n",
    "        # Update positions based on velocities\n",
    "        positions[step] = positions[step-1] + velocities[step] * dt\n",
    "\n",
    "    return positions, velocities\n"
   ]
  },
  {
   "cell_type": "code",
   "execution_count": null,
   "metadata": {},
   "outputs": [],
   "source": [
    "import matplotlib.pyplot as plt\n",
    "\n",
    "# Example usage\n",
    "n = 3  # Number of particles\n",
    "num_steps = 200  # Number of simulation steps\n",
    "dt = 0.00001  # Time step size\n",
    "\n",
    "positions = np.random.randn(n, 2)\n",
    "velocities = np.zeros((n, 2))\n",
    "\n",
    "positions, velocities = simulate_particles(positions, velocities, num_steps, dt)\n",
    "\n",
    "# Plot the movement of particles as lines with start and end locations\n",
    "for i in range(n):\n",
    "    plt.plot(positions[:, i, 0], positions[:, i, 1], label=f'Particle {i+1}')\n",
    "    plt.scatter(positions[0, i, 0], positions[0, i, 1], color='red', marker='o', label='Start')\n",
    "    plt.scatter(positions[-1, i, 0], positions[-1, i, 1], color='green', marker='o', label='End')\n",
    "\n",
    "plt.xlabel('X position')\n",
    "plt.ylabel('Y position')\n",
    "plt.title('Particle Movement')\n",
    "plt.show()\n"
   ]
  },
  {
   "cell_type": "code",
   "execution_count": null,
   "metadata": {},
   "outputs": [],
   "source": [
    "positions"
   ]
  },
  {
   "cell_type": "code",
   "execution_count": null,
   "metadata": {},
   "outputs": [],
   "source": []
  }
 ],
 "metadata": {
  "kernelspec": {
   "display_name": "Python 3",
   "language": "python",
   "name": "python3"
  },
  "language_info": {
   "codemirror_mode": {
    "name": "ipython",
    "version": 3
   },
   "file_extension": ".py",
   "mimetype": "text/x-python",
   "name": "python",
   "nbconvert_exporter": "python",
   "pygments_lexer": "ipython3",
   "version": "3.11.0"
  }
 },
 "nbformat": 4,
 "nbformat_minor": 2
}
