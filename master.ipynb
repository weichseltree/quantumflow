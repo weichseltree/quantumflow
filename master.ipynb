{
 "cells": [
  {
   "cell_type": "code",
   "execution_count": null,
   "id": "f7d6e7a1-2e60-473b-bf4d-fbf0bb485397",
   "metadata": {},
   "outputs": [],
   "source": [
    "import numpy as np"
   ]
  },
  {
   "cell_type": "code",
   "execution_count": null,
   "id": "ad963404-1145-4266-ae4a-88c1d8d94f7d",
   "metadata": {},
   "outputs": [],
   "source": [
    "data = np.eye(4, dtype=np.uint8) # straigt into time dimension\n",
    "data"
   ]
  },
  {
   "cell_type": "code",
   "execution_count": null,
   "id": "b7b81bcc-5c60-41b6-8d6b-ba05591fb628",
   "metadata": {},
   "outputs": [],
   "source": [
    "while True:\n",
    "    address = address * 2 + np.random.randint(4)\n",
    "    print(address)\n",
    "    \n",
    "    break"
   ]
  },
  {
   "cell_type": "code",
   "execution_count": null,
   "id": "8afdd745-6727-4a6a-ab13-87826ba599c1",
   "metadata": {},
   "outputs": [],
   "source": [
    "address % 4"
   ]
  },
  {
   "cell_type": "code",
   "execution_count": null,
   "id": "369c1494-6de4-4172-b157-dac40e286796",
   "metadata": {},
   "outputs": [],
   "source": []
  }
 ],
 "metadata": {
  "kernelspec": {
   "display_name": "Python 3 (ipykernel)",
   "language": "python",
   "name": "python3"
  },
  "language_info": {
   "codemirror_mode": {
    "name": "ipython",
    "version": 3
   },
   "file_extension": ".py",
   "mimetype": "text/x-python",
   "name": "python",
   "nbconvert_exporter": "python",
   "pygments_lexer": "ipython3",
   "version": "3.8.10"
  }
 },
 "nbformat": 4,
 "nbformat_minor": 5
}
